{
 "cells": [
  {
   "cell_type": "code",
   "execution_count": null,
   "id": "0968810b-a39f-434b-9f4f-50d91f7dacaf",
   "metadata": {},
   "outputs": [],
   "source": [
    "import statistics\n",
    "power = 0\n",
    "position = 9\n",
    "my_list = []\n",
    "for item in range(10):\n",
    "    integer = int(input('Input either 0 or 1'))\n",
    "    integer_remainder = integer % 2\n",
    "    if integer_remainder in {0, 1}:\n",
    "        power = integer_remainder * (2 ** position)\n",
    "        position -= 1\n",
    "        my_list.append(power)\n",
    "        print (power)\n",
    "\n",
    "print(my_list)        \n",
    "total_power = sum(my_list)  \n",
    "print(\"Total Power:\", total_power)"
   ]
  }
 ],
 "metadata": {
  "kernelspec": {
   "display_name": "Python 3 (ipykernel)",
   "language": "python",
   "name": "python3"
  },
  "language_info": {
   "codemirror_mode": {
    "name": "ipython",
    "version": 3
   },
   "file_extension": ".py",
   "mimetype": "text/x-python",
   "name": "python",
   "nbconvert_exporter": "python",
   "pygments_lexer": "ipython3",
   "version": "3.11.4"
  }
 },
 "nbformat": 4,
 "nbformat_minor": 5
}
